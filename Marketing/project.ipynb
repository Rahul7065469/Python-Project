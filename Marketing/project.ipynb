{
 "cells": [
  {
   "cell_type": "code",
   "execution_count": 116,
   "metadata": {},
   "outputs": [],
   "source": [
    "import warnings\n",
    "warnings.filterwarnings(\"ignore\")\n",
    "import pandas as pd\n",
    "import matplotlib.pyplot as plt\n",
    "import seaborn as sns"
   ]
  },
  {
   "cell_type": "code",
   "execution_count": 93,
   "metadata": {},
   "outputs": [],
   "source": [
    "df = pd.read_excel(\"data.xlsx\")\n",
    "df1 = pd.read_excel(\"Country-Code.xlsx\")\n",
    "df2 = pd.read_excel(\"variable description.xlsx\")\n"
   ]
  },
  {
   "cell_type": "code",
   "execution_count": 94,
   "metadata": {},
   "outputs": [],
   "source": [
    "merged_df = pd.merge(df, df1, on='Country Code')"
   ]
  },
  {
   "cell_type": "code",
   "execution_count": 95,
   "metadata": {},
   "outputs": [
    {
     "data": {
      "text/plain": [
       "np.int64(0)"
      ]
     },
     "execution_count": 95,
     "metadata": {},
     "output_type": "execute_result"
    }
   ],
   "source": [
    "merged_df.duplicated().sum()"
   ]
  },
  {
   "cell_type": "code",
   "execution_count": 96,
   "metadata": {},
   "outputs": [
    {
     "data": {
      "text/plain": [
       "Restaurant ID           0\n",
       "Restaurant Name         1\n",
       "Country Code            0\n",
       "City                    0\n",
       "Address                 0\n",
       "Locality                0\n",
       "Locality Verbose        0\n",
       "Longitude               0\n",
       "Latitude                0\n",
       "Cuisines                9\n",
       "Average Cost for two    0\n",
       "Currency                0\n",
       "Has Table booking       0\n",
       "Has Online delivery     0\n",
       "Price range             0\n",
       "Aggregate rating        0\n",
       "Rating color            0\n",
       "Rating text             0\n",
       "Votes                   0\n",
       "Country                 0\n",
       "dtype: int64"
      ]
     },
     "execution_count": 96,
     "metadata": {},
     "output_type": "execute_result"
    }
   ],
   "source": [
    "merged_df.isna().sum()"
   ]
  },
  {
   "cell_type": "code",
   "execution_count": 97,
   "metadata": {},
   "outputs": [
    {
     "data": {
      "text/plain": [
       "np.int64(10)"
      ]
     },
     "execution_count": 97,
     "metadata": {},
     "output_type": "execute_result"
    }
   ],
   "source": [
    "merged_df.isnull().any(axis = 1).sum()"
   ]
  },
  {
   "cell_type": "code",
   "execution_count": 98,
   "metadata": {},
   "outputs": [],
   "source": [
    "merged_df.dropna(inplace=True)"
   ]
  },
  {
   "cell_type": "code",
   "execution_count": 99,
   "metadata": {},
   "outputs": [
    {
     "data": {
      "text/plain": [
       "np.int64(0)"
      ]
     },
     "execution_count": 99,
     "metadata": {},
     "output_type": "execute_result"
    }
   ],
   "source": [
    "merged_df.isnull().any(axis = 1).sum()"
   ]
  },
  {
   "cell_type": "code",
   "execution_count": 100,
   "metadata": {},
   "outputs": [
    {
     "data": {
      "text/html": [
       "<div>\n",
       "<style scoped>\n",
       "    .dataframe tbody tr th:only-of-type {\n",
       "        vertical-align: middle;\n",
       "    }\n",
       "\n",
       "    .dataframe tbody tr th {\n",
       "        vertical-align: top;\n",
       "    }\n",
       "\n",
       "    .dataframe thead th {\n",
       "        text-align: right;\n",
       "    }\n",
       "</style>\n",
       "<table border=\"1\" class=\"dataframe\">\n",
       "  <thead>\n",
       "    <tr style=\"text-align: right;\">\n",
       "      <th></th>\n",
       "      <th>Restaurant ID</th>\n",
       "      <th>Restaurant Name</th>\n",
       "      <th>Country Code</th>\n",
       "      <th>City</th>\n",
       "      <th>Address</th>\n",
       "      <th>Locality</th>\n",
       "      <th>Locality Verbose</th>\n",
       "      <th>Longitude</th>\n",
       "      <th>Latitude</th>\n",
       "      <th>Cuisines</th>\n",
       "      <th>Average Cost for two</th>\n",
       "      <th>Currency</th>\n",
       "      <th>Has Table booking</th>\n",
       "      <th>Has Online delivery</th>\n",
       "      <th>Price range</th>\n",
       "      <th>Aggregate rating</th>\n",
       "      <th>Rating color</th>\n",
       "      <th>Rating text</th>\n",
       "      <th>Votes</th>\n",
       "      <th>Country</th>\n",
       "    </tr>\n",
       "  </thead>\n",
       "  <tbody>\n",
       "    <tr>\n",
       "      <th>0</th>\n",
       "      <td>7402935</td>\n",
       "      <td>Skye</td>\n",
       "      <td>94</td>\n",
       "      <td>Jakarta</td>\n",
       "      <td>Menara BCA, Lantai 56, Jl. MH. Thamrin, Thamri...</td>\n",
       "      <td>Grand Indonesia Mall, Thamrin</td>\n",
       "      <td>Grand Indonesia Mall, Thamrin, Jakarta</td>\n",
       "      <td>106.821999</td>\n",
       "      <td>-6.196778</td>\n",
       "      <td>Italian, Continental</td>\n",
       "      <td>800000</td>\n",
       "      <td>Indonesian Rupiah(IDR)</td>\n",
       "      <td>No</td>\n",
       "      <td>No</td>\n",
       "      <td>3</td>\n",
       "      <td>4.1</td>\n",
       "      <td>Green</td>\n",
       "      <td>Very Good</td>\n",
       "      <td>1498</td>\n",
       "      <td>Indonesia</td>\n",
       "    </tr>\n",
       "    <tr>\n",
       "      <th>1</th>\n",
       "      <td>7410290</td>\n",
       "      <td>Satoo - Hotel Shangri-La</td>\n",
       "      <td>94</td>\n",
       "      <td>Jakarta</td>\n",
       "      <td>Hotel Shangri-La, Jl. Jend. Sudirman</td>\n",
       "      <td>Hotel Shangri-La, Sudirman</td>\n",
       "      <td>Hotel Shangri-La, Sudirman, Jakarta</td>\n",
       "      <td>106.818961</td>\n",
       "      <td>-6.203292</td>\n",
       "      <td>Asian, Indonesian, Western</td>\n",
       "      <td>800000</td>\n",
       "      <td>Indonesian Rupiah(IDR)</td>\n",
       "      <td>No</td>\n",
       "      <td>No</td>\n",
       "      <td>3</td>\n",
       "      <td>4.6</td>\n",
       "      <td>Dark Green</td>\n",
       "      <td>Excellent</td>\n",
       "      <td>873</td>\n",
       "      <td>Indonesia</td>\n",
       "    </tr>\n",
       "  </tbody>\n",
       "</table>\n",
       "</div>"
      ],
      "text/plain": [
       "   Restaurant ID           Restaurant Name  Country Code     City  \\\n",
       "0        7402935                      Skye            94  Jakarta   \n",
       "1        7410290  Satoo - Hotel Shangri-La            94  Jakarta   \n",
       "\n",
       "                                             Address  \\\n",
       "0  Menara BCA, Lantai 56, Jl. MH. Thamrin, Thamri...   \n",
       "1               Hotel Shangri-La, Jl. Jend. Sudirman   \n",
       "\n",
       "                        Locality                        Locality Verbose  \\\n",
       "0  Grand Indonesia Mall, Thamrin  Grand Indonesia Mall, Thamrin, Jakarta   \n",
       "1     Hotel Shangri-La, Sudirman     Hotel Shangri-La, Sudirman, Jakarta   \n",
       "\n",
       "    Longitude  Latitude                    Cuisines  Average Cost for two  \\\n",
       "0  106.821999 -6.196778        Italian, Continental                800000   \n",
       "1  106.818961 -6.203292  Asian, Indonesian, Western                800000   \n",
       "\n",
       "                 Currency Has Table booking Has Online delivery  Price range  \\\n",
       "0  Indonesian Rupiah(IDR)                No                  No            3   \n",
       "1  Indonesian Rupiah(IDR)                No                  No            3   \n",
       "\n",
       "   Aggregate rating Rating color Rating text  Votes    Country  \n",
       "0               4.1        Green   Very Good   1498  Indonesia  \n",
       "1               4.6   Dark Green   Excellent    873  Indonesia  "
      ]
     },
     "execution_count": 100,
     "metadata": {},
     "output_type": "execute_result"
    }
   ],
   "source": [
    "merged_df[:2]"
   ]
  },
  {
   "cell_type": "code",
   "execution_count": 101,
   "metadata": {},
   "outputs": [
    {
     "data": {
      "text/plain": [
       "Index(['Restaurant ID', 'Restaurant Name', 'Country Code', 'City', 'Address',\n",
       "       'Locality', 'Locality Verbose', 'Longitude', 'Latitude', 'Cuisines',\n",
       "       'Average Cost for two', 'Currency', 'Has Table booking',\n",
       "       'Has Online delivery', 'Price range', 'Aggregate rating',\n",
       "       'Rating color', 'Rating text', 'Votes', 'Country'],\n",
       "      dtype='object')"
      ]
     },
     "execution_count": 101,
     "metadata": {},
     "output_type": "execute_result"
    }
   ],
   "source": [
    "merged_df.columns"
   ]
  },
  {
   "cell_type": "code",
   "execution_count": 102,
   "metadata": {},
   "outputs": [
    {
     "name": "stdout",
     "output_type": "stream",
     "text": [
      "City with the maximum number of restaurants: New Delhi (5473 restaurants)\n",
      "City with the minimum number of restaurants: Bandung (1 restaurant)\n"
     ]
    }
   ],
   "source": [
    "# Count the number of restaurants in each city\n",
    "city_counts = merged_df['City'].value_counts()\n",
    "\n",
    "# Get the city with the maximum number of restaurants\n",
    "max_city = city_counts.idxmax()\n",
    "max_restaurants = city_counts.max()\n",
    "\n",
    "# Get the city with the minimum number of restaurants\n",
    "min_city = city_counts.idxmin()\n",
    "min_restaurants = city_counts.min()\n",
    "\n",
    "# Display the results\n",
    "print(f\"City with the maximum number of restaurants: {max_city} ({max_restaurants} restaurants)\")\n",
    "print(f\"City with the minimum number of restaurants: {min_city} ({min_restaurants} restaurant)\")\n",
    "\n"
   ]
  },
  {
   "cell_type": "code",
   "execution_count": 103,
   "metadata": {},
   "outputs": [
    {
     "name": "stdout",
     "output_type": "stream",
     "text": [
      "count    9541.000000\n",
      "mean        2.665088\n",
      "std         1.516596\n",
      "min         0.000000\n",
      "25%         2.500000\n",
      "50%         3.200000\n",
      "75%         3.700000\n",
      "max         4.900000\n",
      "Name: Aggregate rating, dtype: float64\n"
     ]
    },
    {
     "data": {
      "image/png": "[encoded data removed]",
      "text/plain": [
       "<Figure size 1000x600 with 1 Axes>"
      ]
     },
     "metadata": {},
     "output_type": "display_data"
    }
   ],
   "source": [
    "\n",
    "# Get the descriptive statistics of the ratings\n",
    "rating_stats = merged_df['Aggregate rating'].describe()\n",
    "\n",
    "# Display the statistics\n",
    "print(rating_stats)\n",
    "\n",
    "# Visualize the distribution of ratings using a histogram\n",
    "plt.figure(figsize=(10,6))\n",
    "merged_df['Aggregate rating'].dropna().hist(bins=10, edgecolor='white')\n",
    "plt.title('Distribution of Restaurant Ratings')\n",
    "plt.xlabel('Ratings')\n",
    "plt.ylabel('Number of Restaurants')\n",
    "plt.show()\n"
   ]
  },
  {
   "cell_type": "code",
   "execution_count": 104,
   "metadata": {},
   "outputs": [
    {
     "name": "stdout",
     "output_type": "stream",
     "text": [
      "The franchise with the most national presence is: Cafe Coffee Day with 83 locations.\n"
     ]
    }
   ],
   "source": [
    "\n",
    "# Group by 'Restaurant Name' and count the number of restaurants for each franchise\n",
    "franchise_counts = merged_df['Restaurant Name'].value_counts()\n",
    "\n",
    "# Get the franchise with the most national presence (maximum count)\n",
    "top_franchise = franchise_counts.idxmax()\n",
    "top_franchise_count = franchise_counts.max()\n",
    "\n",
    "print(f\"The franchise with the most national presence is: {top_franchise} with {top_franchise_count} locations.\")"
   ]
  },
  {
   "cell_type": "code",
   "execution_count": null,
   "metadata": {},
   "outputs": [],
   "source": []
  },
  {
   "cell_type": "code",
   "execution_count": 105,
   "metadata": {},
   "outputs": [
    {
     "name": "stdout",
     "output_type": "stream",
     "text": [
      "Restaurants that allow table booking: 1158\n",
      "Restaurants that do not allow table booking: 8383\n",
      "Ratio of restaurants that allow table booking to those that do not: 0.14\n"
     ]
    }
   ],
   "source": [
    "# Count the number of restaurants that allow table booking (assuming 'Has Table booking' is True/False)\n",
    "table_booking_counts = merged_df['Has Table booking'].value_counts()\n",
    "\n",
    "# Calculate the ratio\n",
    "ratio_of_table_booking=round(table_booking_counts[\"Yes\"]/table_booking_counts[\"No\"],2)\n",
    "\n",
    "print(f\"Restaurants that allow table booking: {table_booking_counts[1]}\")\n",
    "print(f\"Restaurants that do not allow table booking: {table_booking_counts[0]}\")\n",
    "print(f\"Ratio of restaurants that allow table booking to those that do not: {ratio_of_table_booking}\")\n"
   ]
  },
  {
   "cell_type": "code",
   "execution_count": 106,
   "metadata": {},
   "outputs": [
    {
     "name": "stdout",
     "output_type": "stream",
     "text": [
      "Restaurants providing online delivery: 2451\n",
      "Total number of restaurants: 9541\n",
      "Percentage of restaurants providing online delivery: 25.69%\n"
     ]
    }
   ],
   "source": [
    "# Count the number of restaurants providing online delivery (assuming 'Has Online delivery' is True/Yes or 1)\n",
    "online_delivery_counts = merged_df['Has Online delivery'].value_counts()\n",
    "\n",
    "# Calculate the percentage of restaurants providing online delivery\n",
    "percentage_online_delivery = round((online_delivery_counts['Yes'] / len(merged_df)) * 100, 2)\n",
    "\n",
    "# Print the results\n",
    "print(f\"Restaurants providing online delivery: {online_delivery_counts['Yes']}\")\n",
    "print(f\"Total number of restaurants: {len(merged_df)}\")\n",
    "print(f\"Percentage of restaurants providing online delivery: {percentage_online_delivery}%\")\n"
   ]
  },
  {
   "cell_type": "code",
   "execution_count": 107,
   "metadata": {},
   "outputs": [
    {
     "name": "stdout",
     "output_type": "stream",
     "text": [
      "Top 10 cuisines served across cities:\n",
      "North Indian     2991\n",
      " Chinese         1880\n",
      " Fast Food       1314\n",
      " North Indian     968\n",
      "Chinese           855\n",
      " Mughlai          780\n",
      "Fast Food         672\n",
      "Bakery            621\n",
      "Cafe              617\n",
      " Italian          529\n",
      "Name: count, dtype: int64\n"
     ]
    }
   ],
   "source": [
    "# Step 1: Split the cuisines column\n",
    "cuisines_expanded = merged_df['Cuisines'].str.split(',', expand=True).stack()\n",
    "\n",
    "# Step 2: Count the occurrences of each cuisine\n",
    "cuisine_counts = cuisines_expanded.value_counts()\n",
    "\n",
    "# Step 3: Get the top 10 most common cuisines\n",
    "top_10_cuisines = cuisine_counts.head(10)\n",
    "\n",
    "# Print the results\n",
    "print(\"Top 10 cuisines served across cities:\")\n",
    "print(top_10_cuisines)\n"
   ]
  },
  {
   "cell_type": "code",
   "execution_count": 108,
   "metadata": {},
   "outputs": [
    {
     "data": {
      "text/plain": [
       "0     0          Italian\n",
       "      1      Continental\n",
       "1     0            Asian\n",
       "      1       Indonesian\n",
       "      2          Western\n",
       "               ...      \n",
       "9548  4          Italian\n",
       "      5        Beverages\n",
       "9549  0      Street Food\n",
       "9550  0          Chinese\n",
       "      1     North Indian\n",
       "Length: 19706, dtype: object"
      ]
     },
     "execution_count": 108,
     "metadata": {},
     "output_type": "execute_result"
    }
   ],
   "source": [
    "cuisines_expanded = merged_df['Cuisines'].str.split(',', expand=True).stack()\n",
    "cuisines_expanded"
   ]
  },
  {
   "cell_type": "code",
   "execution_count": 109,
   "metadata": {},
   "outputs": [
    {
     "name": "stdout",
     "output_type": "stream",
     "text": [
      "Maximum number of cuisines served by a restaurant: 8\n",
      "Minimum number of cuisines served by a restaurant: 1\n"
     ]
    }
   ],
   "source": [
    "# Split the 'Cuisines' column by commas to create a list of cuisines for each restaurant\n",
    "merged_df['Cuisines List'] = merged_df['Cuisines'].str.split(',')\n",
    "\n",
    "# Calculate the number of cuisines for each restaurant by measuring the length of the list\n",
    "merged_df['Num Cuisines'] = merged_df['Cuisines List'].apply(len)\n",
    "\n",
    "# Calculate the maximum and minimum number of cuisines\n",
    "max_cuisines = merged_df['Num Cuisines'].max()\n",
    "min_cuisines = merged_df['Num Cuisines'].min()\n",
    "\n",
    "print(f\"Maximum number of cuisines served by a restaurant: {max_cuisines}\")\n",
    "print(f\"Minimum number of cuisines served by a restaurant: {min_cuisines}\")\n"
   ]
  },
  {
   "cell_type": "code",
   "execution_count": 110,
   "metadata": {},
   "outputs": [
    {
     "name": "stdout",
     "output_type": "stream",
     "text": [
      "Correlation between number of cuisines served and ratings: 0.2501937126441692\n"
     ]
    }
   ],
   "source": [
    "# Calculate the correlation between the number of cuisines and ratings\n",
    "correlation = merged_df['Num Cuisines'].corr(merged_df['Aggregate rating'])\n",
    "\n",
    "print(f\"Correlation between number of cuisines served and ratings: {correlation}\")\n"
   ]
  },
  {
   "cell_type": "code",
   "execution_count": 111,
   "metadata": {},
   "outputs": [
    {
     "data": {
      "text/plain": [
       "Index(['Restaurant ID', 'Restaurant Name', 'Country Code', 'City', 'Address',\n",
       "       'Locality', 'Locality Verbose', 'Longitude', 'Latitude', 'Cuisines',\n",
       "       'Average Cost for two', 'Currency', 'Has Table booking',\n",
       "       'Has Online delivery', 'Price range', 'Aggregate rating',\n",
       "       'Rating color', 'Rating text', 'Votes', 'Country', 'Cuisines List',\n",
       "       'Num Cuisines'],\n",
       "      dtype='object')"
      ]
     },
     "execution_count": 111,
     "metadata": {},
     "output_type": "execute_result"
    }
   ],
   "source": [
    "merged_df.columns"
   ]
  },
  {
   "cell_type": "code",
   "execution_count": 112,
   "metadata": {},
   "outputs": [
    {
     "data": {
      "image/png": "[encoded data removed]",
      "text/plain": [
       "<Figure size 640x480 with 1 Axes>"
      ]
     },
     "metadata": {},
     "output_type": "display_data"
    }
   ],
   "source": [
    "sns.countplot(data = merged_df,x = \"Rating text\")\n",
    "plt.xlabel(\"Rating\")\n",
    "plt.xlabel(\"Rating counbt\")\n",
    "plt.show()"
   ]
  },
  {
   "cell_type": "code",
   "execution_count": null,
   "metadata": {},
   "outputs": [
    {
     "name": "stdout",
     "output_type": "stream",
     "text": [
      "Correlation between number of cuisines served and ratings: 0.05186896469351653\n"
     ]
    }
   ],
   "source": [
    "correc= merged_df[\"Aggregate rating\"].corr(merged_df[\"Average Cost for two\"])\n",
    "print(f\"Correlation between number of Cost for two and ratings: {correc}\")\n"
   ]
  },
  {
   "cell_type": "markdown",
   "metadata": {},
   "source": [
    "Restaurant ratings are shaped by various factors that influence customer experience and satisfaction. Here’s what stands out from the analysis:\n",
    "\n",
    "Menu Variety Matters 🍽️ – Restaurants offering multiple cuisines tend to attract a wider audience, increasing the chances of higher ratings. More options usually mean happier customers!\n",
    "\n",
    "Price vs. Perception 💰 – Fine dining spots often receive better ratings due to premium service and quality. But budget-friendly places can still score well if they offer great value.\n",
    "\n",
    "Delivery Convenience 🚚 – Online delivery makes life easier, but ratings depend on factors like food quality after transit and delivery speed.\n",
    "\n",
    "Table Booking & Experience 📅 – Restaurants that allow table reservations often earn better ratings since they provide a smoother dining experience without long wait times.\n",
    "\n",
    "Customer Votes & Trust 🗳️ – The more votes a restaurant has, the more reliable its ratings. High engagement often indicates consistency in service and quality.\n",
    "\n",
    "Location Impact 📍 – Ratings vary by city and country due to different cultural expectations, food preferences, and service standards.\n",
    "\n",
    "Franchise vs. Hidden Gems 🌟 – Big chains like Cafe Coffee Day have widespread recognition, leading to consistent ratings. Independent restaurants, however, can surprise customers with unique flavors and personalized service.\n",
    "\n",
    "At the heart of it, ratings reflect customer expectations, convenience, and overall experience. Whether it's a luxury restaurant or a local street food joint, what truly matters is how well they satisfy their customers."
   ]
  },
  {
   "cell_type": "code",
   "execution_count": null,
   "metadata": {},
   "outputs": [],
   "source": []
  }
 ],
 "metadata": {
  "kernelspec": {
   "display_name": "Python 3",
   "language": "python",
   "name": "python3"
  },
  "language_info": {
   "codemirror_mode": {
    "name": "ipython",
    "version": 3
   },
   "file_extension": ".py",
   "mimetype": "text/x-python",
   "name": "python",
   "nbconvert_exporter": "python",
   "pygments_lexer": "ipython3",
   "version": "3.12.4"
  }
 },
 "nbformat": 4,
 "nbformat_minor": 2
}
